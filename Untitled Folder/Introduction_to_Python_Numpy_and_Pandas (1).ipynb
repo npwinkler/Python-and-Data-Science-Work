{
 "cells": [
  {
   "cell_type": "markdown",
   "metadata": {},
   "source": [
    "### A Standard Workflow\n",
    "\n",
    "When working on Python programs it is common to have two windows open, a text editor and an IPython terminal. We switch back and forth between these two very frequently. We write functions in the text editor (writing functions in IPython is a pain) and then try them out in IPython. The standard workflow is something like the following:\n",
    "\n",
    "1. Experiment in IPython to get an idea of how a function should work.\n",
    "\n",
    "2. Use a text editor to write a first draft of the function in a .py file.\n",
    "\n",
    "3. Run a file from IPython to load your work. run name_of_your_file.py\n",
    "\n",
    "4. Use the function from within IPython. name_of_your_function(). Discover that your function doesn't work.\n",
    "\n",
    "5. Fix errors in the .py file and click save.\n",
    "\n",
    "6. Re-run the file in IPython to update the changes. run name_of_your_file.py\n",
    "\n",
    "7. Repeat until your code is working as intended."
   ]
  },
  {
   "cell_type": "code",
   "execution_count": 1,
   "metadata": {
    "collapsed": false
   },
   "outputs": [
    {
     "name": "stdout",
     "output_type": "stream",
     "text": [
      "Hello, world!\n"
     ]
    }
   ],
   "source": [
    "print \"Hello, world!\""
   ]
  },
  {
   "cell_type": "markdown",
   "metadata": {},
   "source": [
    "### Functions"
   ]
  },
  {
   "cell_type": "code",
   "execution_count": 2,
   "metadata": {
    "collapsed": false
   },
   "outputs": [],
   "source": [
    "def max(a, b):\n",
    "    if a > b:\n",
    "        return a\n",
    "    else:\n",
    "        return b"
   ]
  },
  {
   "cell_type": "markdown",
   "metadata": {},
   "source": [
    "### If-else Statement"
   ]
  },
  {
   "cell_type": "code",
   "execution_count": 3,
   "metadata": {
    "collapsed": false
   },
   "outputs": [
    {
     "name": "stdout",
     "output_type": "stream",
     "text": [
      "a != 1\n"
     ]
    }
   ],
   "source": [
    "a = 0\n",
    "\n",
    "if a == 1:\n",
    "    print \"a == 1\"\n",
    "else:\n",
    "    print \"a != 1\""
   ]
  },
  {
   "cell_type": "markdown",
   "metadata": {},
   "source": [
    "###Loops"
   ]
  },
  {
   "cell_type": "code",
   "execution_count": 4,
   "metadata": {
    "collapsed": false
   },
   "outputs": [
    {
     "name": "stdout",
     "output_type": "stream",
     "text": [
      "1\n",
      "2\n",
      "3\n",
      "4\n",
      "5\n",
      "6\n",
      "7\n",
      "8\n",
      "9\n",
      "10\n",
      "0\n",
      "1\n",
      "2\n",
      "3\n",
      "4\n",
      "5\n",
      "6\n",
      "7\n",
      "8\n",
      "9\n"
     ]
    }
   ],
   "source": [
    "i = 1\n",
    "while i <= 10:\n",
    "    print i\n",
    "    i += 1\n",
    "    \n",
    "for i in range(10):\n",
    "    print i"
   ]
  },
  {
   "cell_type": "markdown",
   "metadata": {},
   "source": [
    "### Importing your own code into IPython"
   ]
  },
  {
   "cell_type": "code",
   "execution_count": 5,
   "metadata": {
    "collapsed": false
   },
   "outputs": [
    {
     "name": "stdout",
     "output_type": "stream",
     "text": [
      "25\n"
     ]
    }
   ],
   "source": [
    "from squares import print_squares\n",
    "\n",
    "print_squares(5)"
   ]
  },
  {
   "cell_type": "markdown",
   "metadata": {},
   "source": [
    "### Lists and for-each loops"
   ]
  },
  {
   "cell_type": "code",
   "execution_count": 6,
   "metadata": {
    "collapsed": false
   },
   "outputs": [
    {
     "name": "stdout",
     "output_type": "stream",
     "text": [
      "Alice 5\n",
      "Bob 3\n",
      "Charlie 7\n"
     ]
    }
   ],
   "source": [
    "list_of_words = ['Alice', 'Bob', 'Charlie']\n",
    "for word in list_of_words:\n",
    "    print word, len(word)"
   ]
  },
  {
   "cell_type": "markdown",
   "metadata": {},
   "source": [
    "### Dictionary\n",
    "\n",
    "A dictionary (dict for short) is a data type that associates keys with values. In computer science, this data type is also referred to as an associative array or a map. It is a generalization of arrays/lists.\n",
    "\n",
    "When using arrays/lists we give an index and receive a value."
   ]
  },
  {
   "cell_type": "code",
   "execution_count": 7,
   "metadata": {
    "collapsed": false
   },
   "outputs": [
    {
     "name": "stdout",
     "output_type": "stream",
     "text": [
      "Bob\n"
     ]
    }
   ],
   "source": [
    "names = ['Alice', 'Bob', 'Charlie']\n",
    "print names[1]"
   ]
  },
  {
   "cell_type": "markdown",
   "metadata": {},
   "source": [
    "In the example above we gave the index 1 and received the value 'Bob'. We might think about this list in the following way:\n",
    "\n",
    "0: 'Alice'\n",
    "\n",
    "1: 'Bob'\n",
    "\n",
    "2: 'Charlie'\n",
    "\n",
    "A dictionary generalizes what we can use as an index (left of the :). Dictionaries can use many different types of values as an index--not just integers. Here is an example that associates items in a grocery store with their prices:\n",
    "\n",
    "'Apple':   .89\n",
    "\n",
    "'Banana':  .39\n",
    "\n",
    "'Bread':  2.50"
   ]
  },
  {
   "cell_type": "code",
   "execution_count": 8,
   "metadata": {
    "collapsed": false
   },
   "outputs": [],
   "source": [
    "prices = {'Apple': .89, 'Banana': .39, 'Bread': 2.50}"
   ]
  },
  {
   "cell_type": "code",
   "execution_count": 9,
   "metadata": {
    "collapsed": false
   },
   "outputs": [
    {
     "name": "stdout",
     "output_type": "stream",
     "text": [
      "['Bread', 'Apple', 'Banana']\n",
      "[2.5, 0.89, 0.39]\n",
      "[('Bread', 2.5), ('Apple', 0.89), ('Banana', 0.39)]\n"
     ]
    }
   ],
   "source": [
    "print (prices.keys())\n",
    "print (prices.values())\n",
    "print (prices.items())"
   ]
  },
  {
   "cell_type": "code",
   "execution_count": 10,
   "metadata": {
    "collapsed": false
   },
   "outputs": [
    {
     "name": "stdout",
     "output_type": "stream",
     "text": [
      "Bread costs $2.5\n",
      "Apple costs $0.89\n",
      "Banana costs $0.39\n"
     ]
    }
   ],
   "source": [
    "for product in prices.keys():\n",
    "    price = '$' + str(prices[product])\n",
    "    print product + ' costs ' + price"
   ]
  },
  {
   "cell_type": "markdown",
   "metadata": {},
   "source": [
    "### Read Files"
   ]
  },
  {
   "cell_type": "code",
   "execution_count": 11,
   "metadata": {
    "collapsed": false
   },
   "outputs": [
    {
     "name": "stdout",
     "output_type": "stream",
     "text": [
      "['This is a file.\\n']\n"
     ]
    }
   ],
   "source": [
    "f = open('./read.csv', 'r')         # open a file for reading\n",
    "lines = f.readlines()           # get a list of lines of text from the file\n",
    "print lines\n",
    "f.close()                       # close the file"
   ]
  },
  {
   "cell_type": "markdown",
   "metadata": {},
   "source": [
    "### Write Files"
   ]
  },
  {
   "cell_type": "code",
   "execution_count": 12,
   "metadata": {
    "collapsed": false
   },
   "outputs": [
    {
     "name": "stdout",
     "output_type": "stream",
     "text": [
      "['Hello, World!\\n']\n"
     ]
    }
   ],
   "source": [
    "f = open('./write.csv', 'w')         # open a file for writing\n",
    "f.write('Hello, World!\\n')      # write \"Hello, World!\" with an newline to the file\n",
    "f.close()                       # save and close the file\n",
    "\n",
    "f = open('./write.csv', 'r')         # open a file for reading\n",
    "lines = f.readlines()           # get a list of lines of text from the file\n",
    "print lines\n",
    "f.close()                       # close the file"
   ]
  },
  {
   "cell_type": "markdown",
   "metadata": {},
   "source": [
    "### Install a package\n",
    "\n",
    "For example, if we want to retrieve stock quote data from Yahoo Finance. We need to install python package \"ytockquote\".\n",
    "\n",
    "\n",
    "#####Method a:\n",
    "\n",
    "ytockquote can be installed from PyPI with pip:\n",
    "\n",
    "$ pip install ystockquote\n",
    "\n",
    "######Method b:\n",
    "You can also clone the development repo (requires git) to install and run unit-tests:\n",
    "\n",
    "$ git clone git://github.com/cgoldberg/ystockquote.git\n",
    "\n",
    "$ cd ystockquote\n",
    "\n",
    "$ python setup.py install\n",
    "\n",
    "$ python -m unittest discover"
   ]
  },
  {
   "cell_type": "code",
   "execution_count": 13,
   "metadata": {
    "collapsed": false
   },
   "outputs": [],
   "source": [
    "from ystockquote import *"
   ]
  },
  {
   "cell_type": "code",
   "execution_count": 14,
   "metadata": {
    "collapsed": false
   },
   "outputs": [
    {
     "name": "stdout",
     "output_type": "stream",
     "text": [
      "Help on function get_historical_prices in module ystockquote:\n",
      "\n",
      "get_historical_prices(symbol, start_date, end_date)\n",
      "    Get historical prices for the given ticker symbol.\n",
      "    Date format is 'YYYY-MM-DD'\n",
      "    \n",
      "    Returns a nested dictionary (dict of dicts).\n",
      "    outer dict keys are dates ('YYYY-MM-DD')\n",
      "\n"
     ]
    }
   ],
   "source": [
    "help(get_historical_prices)"
   ]
  },
  {
   "cell_type": "code",
   "execution_count": 15,
   "metadata": {
    "collapsed": false
   },
   "outputs": [],
   "source": [
    "google_stock_data = get_historical_prices('GOOGL', '2015-01-01','2016-03-31')\n",
    "linkedin_stock_data = get_historical_prices('LNKD', '2015-01-01','2016-03-31')"
   ]
  },
  {
   "cell_type": "code",
   "execution_count": 16,
   "metadata": {
    "collapsed": false
   },
   "outputs": [
    {
     "data": {
      "text/plain": [
       "dict"
      ]
     },
     "execution_count": 16,
     "metadata": {},
     "output_type": "execute_result"
    }
   ],
   "source": [
    "type(google_stock_data)"
   ]
  },
  {
   "cell_type": "code",
   "execution_count": 17,
   "metadata": {
    "collapsed": false
   },
   "outputs": [
    {
     "data": {
      "text/plain": [
       "313"
      ]
     },
     "execution_count": 17,
     "metadata": {},
     "output_type": "execute_result"
    }
   ],
   "source": [
    "len(google_stock_data)"
   ]
  },
  {
   "cell_type": "code",
   "execution_count": 18,
   "metadata": {
    "collapsed": false
   },
   "outputs": [],
   "source": [
    "from datetime import datetime\n",
    "googlePrice = []\n",
    "dates = []\n",
    "for date_str in sort(google_stock_data.keys()):\n",
    "    price = google_stock_data[date_str]\n",
    "    googlePrice.append(double(price['Close']))\n",
    "    date = datetime.strptime(date_str,'%Y-%m-%d')\n",
    "    dates.append(date)\n",
    "    \n",
    "linkedinPrice = []\n",
    "\n",
    "for date_str in sort(linkedin_stock_data.keys()):\n",
    "    price = linkedin_stock_data[date_str]\n",
    "    linkedinPrice.append(double(price['Close']))"
   ]
  },
  {
   "cell_type": "markdown",
   "metadata": {},
   "source": [
    "##### Plot with Matplotlib\n",
    "\n"
   ]
  },
  {
   "cell_type": "code",
   "execution_count": 19,
   "metadata": {
    "collapsed": false
   },
   "outputs": [
    {
     "name": "stderr",
     "output_type": "stream",
     "text": [
      "/Users/jiajunshen/Library/Enthought/Canopy_64bit/User/lib/python2.7/site-packages/matplotlib/cbook.py:137: MatplotlibDeprecationWarning: The \"loc\" positional argument to legend is deprecated. Please use the \"loc\" keyword instead.\n",
      "  warnings.warn(message, mplDeprecation, stacklevel=1)\n"
     ]
    },
    {
     "data": {
      "image/png": "[encoded data removed]",
      "text/plain": [
       "<matplotlib.figure.Figure at 0x10f402050>"
      ]
     },
     "metadata": {},
     "output_type": "display_data"
    }
   ],
   "source": [
    "# Friday, July 17th a day after the company reported earnings, \n",
    "# Google stock price had the largest single-day gain ever.\n",
    "\n",
    "import matplotlib.pyplot as plt\n",
    "import matplotlib.dates as mdates\n",
    "\n",
    "fig = plt.figure()\n",
    "plt.plot(dates, googlePrice)\n",
    "fig.autofmt_xdate()\n",
    "\n",
    "plt.xlabel('Time')\n",
    "plt.ylabel('Price')\n",
    "plt.title('Google Stock Price in 2015-2016')\n",
    "plt.legend(['Price Trend'], \"upper left\")\n",
    "\n",
    "plt.show()"
   ]
  },
  {
   "cell_type": "markdown",
   "metadata": {},
   "source": [
    "##### subplots"
   ]
  },
  {
   "cell_type": "code",
   "execution_count": 22,
   "metadata": {
    "collapsed": false
   },
   "outputs": [
    {
     "data": {
      "image/png": "[encoded data removed]",
      "text/plain": [
       "<matplotlib.figure.Figure at 0x1161c92d0>"
      ]
     },
     "metadata": {},
     "output_type": "display_data"
    }
   ],
   "source": [
    "import numpy as np\n",
    "import matplotlib.pyplot as plt\n",
    "\n",
    "# Friday, July 17th a day after the company reported earnings, \n",
    "# Google stock price had the largest single-day gain ever.\n",
    "\n",
    "import matplotlib.pyplot as plt\n",
    "import matplotlib.dates as mdates\n",
    "\n",
    "fig = plt.figure(figsize = (10,10))\n",
    "# Set up a subplot grid that has height 2 and width 1,\n",
    "# and set the first such subplot as active.\n",
    "plt.subplot(2, 1, 1)\n",
    "\n",
    "plt.plot(dates, googlePrice)\n",
    "fig.autofmt_xdate()\n",
    "\n",
    "plt.xlabel('Time')\n",
    "plt.ylabel('Price')\n",
    "plt.title('Google Stock Price in 2015-2016')\n",
    "plt.legend(['Price Trend'], \"upper left\")\n",
    "\n",
    "\n",
    "# Set the second subplot as active, and make the second plot.\n",
    "plt.subplot(2, 1, 2)\n",
    "plt.plot(dates, linkedinPrice)\n",
    "fig.autofmt_xdate()\n",
    "\n",
    "plt.xlabel('Time')\n",
    "plt.ylabel('Price')\n",
    "plt.title('LinkedIn Stock Price in 2015-2016')\n",
    "plt.legend(['Price Trend'], \"lower left\")\n",
    "# Show the figure.\n",
    "plt.show()"
   ]
  },
  {
   "cell_type": "markdown",
   "metadata": {},
   "source": [
    "### Numpy\n",
    "\n",
    "Numpy is the core library for scientific computing in Python. It provides a high-performance multidimensional array object, and tools for working with these arrays."
   ]
  },
  {
   "cell_type": "markdown",
   "metadata": {},
   "source": [
    "###### Creating Arrays"
   ]
  },
  {
   "cell_type": "code",
   "execution_count": 24,
   "metadata": {
    "collapsed": false
   },
   "outputs": [
    {
     "name": "stdout",
     "output_type": "stream",
     "text": [
      "<type 'numpy.ndarray'>\n",
      "(3,)\n",
      "1 2 3\n",
      "[5 2 3]\n",
      "(2, 3)\n",
      "1 2 4\n",
      "[ 0.  0.  0.  0.  0.  0.  0.  0.  0.  0.]\n",
      "[ 1.  1.  1.  1.  1.  1.  1.  1.  1.  1.]\n"
     ]
    }
   ],
   "source": [
    "import numpy as np\n",
    "\n",
    "#creating arrays\n",
    "\n",
    "a = np.array([1, 2, 3])  # Create a rank 1 array\n",
    "print type(a)            # Prints \"<type 'numpy.ndarray'>\"\n",
    "print a.shape            # Prints \"(3,)\"\n",
    "print a[0], a[1], a[2]   # Prints \"1 2 3\"\n",
    "a[0] = 5                 # Change an element of the array\n",
    "print a                  # Prints \"[5, 2, 3]\"\n",
    "\n",
    "b = np.array([[1,2,3],[4,5,6]])   # Create a rank 2 array\n",
    "print b.shape                     # Prints \"(2, 3)\"\n",
    "print b[0, 0], b[0, 1], b[1, 0]   # Prints \"1 2 4\"\n",
    "\n",
    "\n",
    "arrayOfZeros = np.zeros(10)\n",
    "print(arrayOfZeros)\n",
    "\n",
    "arrayOfOnes = np.ones(10)\n",
    "print(arrayOfOnes)"
   ]
  },
  {
   "cell_type": "markdown",
   "metadata": {},
   "source": [
    "######Array indexing\n",
    "\n",
    "Numpy offers several ways to index into arrays."
   ]
  },
  {
   "cell_type": "code",
   "execution_count": 25,
   "metadata": {
    "collapsed": false
   },
   "outputs": [
    {
     "name": "stdout",
     "output_type": "stream",
     "text": [
      "2\n",
      "77\n",
      "[ 9 11  9 10]\n",
      "[[False  True False False]\n",
      " [False False  True  True]\n",
      " [ True  True  True  True]]\n",
      "[77  7  8  9 10 11 12]\n"
     ]
    }
   ],
   "source": [
    "# Create the following rank 2 array with shape (3, 4)\n",
    "# [[ 1  2  3  4]\n",
    "#  [ 5  6  7  8]\n",
    "#  [ 9 10 11 12]]\n",
    "a = np.array([[1,2,3,4], [5,6,7,8], [9,10,11,12]])\n",
    "\n",
    "\n",
    "#Slicing: Similar to Python lists, numpy arrays can be sliced. \n",
    "#Since arrays may be multidimensional, you must specify a slice for each dimension of the array:\n",
    "\n",
    "# Use slicing to pull out the subarray consisting of the first 2 rows\n",
    "# and columns 1 and 2; b is the following array of shape (2, 2):\n",
    "# [[2 3]\n",
    "#  [6 7]]\n",
    "b = a[:2, 1:3] ## Here :2 meaning from 0 to (2-1); 1:3 meaning from 1 to (3-1)\n",
    "\n",
    "# !!! A slice of an array is a view into the same data, so modifying it\n",
    "# will modify the original array.\n",
    "\n",
    "\n",
    "\n",
    "print a[0, 1]   # Prints \"2\"\n",
    "b[0, 0] = 77    # b[0, 0] is the same piece of data as a[0, 1]\n",
    "print a[0, 1]   # Prints \"77\"\n",
    "\n",
    "\n",
    "#integer array indexing\n",
    "\n",
    "b = [0,2,0,1]\n",
    "\n",
    "print(a[2,b])\n",
    "\n",
    "# Boolean array indexing:Boolean array indexing lets you pick out arbitrary elements of an array. \n",
    "# Frequently this type of indexing is used to select the elements of an array that satisfy some condition. \n",
    "# Here is an example:\n",
    "\n",
    "print(a > 6)\n",
    "print(a[a>6])"
   ]
  },
  {
   "cell_type": "markdown",
   "metadata": {},
   "source": [
    "###### Array assignment"
   ]
  },
  {
   "cell_type": "code",
   "execution_count": 26,
   "metadata": {
    "collapsed": false
   },
   "outputs": [
    {
     "name": "stdout",
     "output_type": "stream",
     "text": [
      "before changing a, b[0] = : [1 2 3 4]\n",
      "after chaning a, b[0] = : [0 2 3 4]\n"
     ]
    }
   ],
   "source": [
    "# Example of binding names: Two names referring to a same object\n",
    "a = np.array([[1,2,3,4], [5,6,7,8], [9,10,11,12]])\n",
    "b = a\n",
    "print \"before changing a, b[0] = :\", b[0]\n",
    "a[0,0] = 0\n",
    "print \"after chaning a, b[0] = :\", b[0]"
   ]
  },
  {
   "cell_type": "code",
   "execution_count": 27,
   "metadata": {
    "collapsed": false
   },
   "outputs": [
    {
     "name": "stdout",
     "output_type": "stream",
     "text": [
      "before changing a, b[0] = : [1 2 3 4]\n",
      "after chaning a, b[0] = : [1 2 3 4]\n"
     ]
    }
   ],
   "source": [
    "# Example of deep copy: create a new array, and copy the values in a to b\n",
    "a = np.array([[1,2,3,4], [5,6,7,8], [9,10,11,12]])\n",
    "b = np.array(a)\n",
    "print \"before changing a, b[0] = :\", b[0]\n",
    "a[0,0] = 0\n",
    "print \"after chaning a, b[0] = :\", b[0]"
   ]
  },
  {
   "cell_type": "markdown",
   "metadata": {},
   "source": [
    "##### Array Operation"
   ]
  },
  {
   "cell_type": "code",
   "execution_count": 28,
   "metadata": {
    "collapsed": false
   },
   "outputs": [
    {
     "name": "stdout",
     "output_type": "stream",
     "text": [
      "(3, 4)\n",
      "(2, 6)\n",
      "(3, 4)\n",
      "(12,)\n",
      "[[1 2 3]\n",
      " [2 3 4]]\n",
      "[1 2 3 2 3 4]\n"
     ]
    },
    {
     "data": {
      "text/plain": [
       "array([[1, 2],\n",
       "       [3, 4],\n",
       "       [5, 6]])"
      ]
     },
     "execution_count": 28,
     "metadata": {},
     "output_type": "execute_result"
    }
   ],
   "source": [
    "# Get the shape of an array: shape\n",
    "a = np.array([[1,2,3,4], [5,6,7,8], [9,10,11,12]])\n",
    "print (a.shape)\n",
    "\n",
    "# Change shape of an array: reshape\n",
    "b = a.reshape(2,6)\n",
    "print(b.shape)\n",
    "c = a.reshape(-1,4)\n",
    "print(c.shape)\n",
    "\n",
    "# Flatten an array\n",
    "d = a.flatten()\n",
    "print(d.shape)\n",
    "\n",
    "#Concatenate arrays: vstack, hstack, concatenate\n",
    "\n",
    "a = np.array([1, 2, 3])\n",
    "b = np.array([2, 3, 4])\n",
    "\n",
    "#a sequence of arrays and stack them vertically to make a single array.\n",
    "print(np.vstack((a,b)))\n",
    "\n",
    "#a sequence of arrays and stack them horizontally to make a single array.\n",
    "print(np.hstack((a,b)))\n",
    "\n",
    "#Join a sequence of arrays along an existing axis.\n",
    "a = np.array([[1, 2], [3, 4]])\n",
    "b = np.array([[5, 6]])\n",
    "np.concatenate((a, b))"
   ]
  },
  {
   "cell_type": "markdown",
   "metadata": {},
   "source": [
    "##### Array Math"
   ]
  },
  {
   "cell_type": "code",
   "execution_count": 29,
   "metadata": {
    "collapsed": false
   },
   "outputs": [
    {
     "name": "stdout",
     "output_type": "stream",
     "text": [
      "78\n",
      "[15 18 21 24]\n",
      "[10 26 42]\n",
      "6.5\n",
      "[ 5.  6.  7.  8.]\n",
      "[  2.5   6.5  10.5]\n",
      "[[  6.   8.]\n",
      " [ 10.  12.]]\n",
      "[[  6.   8.]\n",
      " [ 10.  12.]]\n",
      "[[-4. -4.]\n",
      " [-4. -4.]]\n",
      "[[-4. -4.]\n",
      " [-4. -4.]]\n",
      "[[  5.  12.]\n",
      " [ 21.  32.]]\n",
      "[[  5.  12.]\n",
      " [ 21.  32.]]\n",
      "[[ 0.2         0.33333333]\n",
      " [ 0.42857143  0.5       ]]\n",
      "[[ 0.2         0.33333333]\n",
      " [ 0.42857143  0.5       ]]\n",
      "[[ 1.          1.41421356]\n",
      " [ 1.73205081  2.        ]]\n",
      "219\n",
      "219\n",
      "[29 67]\n",
      "[29 67]\n",
      "[[19 22]\n",
      " [43 50]]\n",
      "[[19 22]\n",
      " [43 50]]\n",
      "[[1 2]\n",
      " [3 4]]\n",
      "[[1 3]\n",
      " [2 4]]\n"
     ]
    }
   ],
   "source": [
    "a = np.array([[1,2,3,4], [5,6,7,8], [9,10,11,12]])\n",
    "\n",
    "## Notice the use of np.sum and the axis keywords\n",
    "print(np.sum(a))\n",
    "print(np.sum(a, axis = 0))\n",
    "print(np.sum(a, axis = 1))\n",
    "\n",
    "print(np.mean(a))\n",
    "print(np.mean(a, axis = 0))\n",
    "print(np.mean(a, axis = 1))\n",
    "\n",
    "\n",
    "## Element Sum\n",
    "x = np.array([[1,2],[3,4]], dtype=np.float64)\n",
    "y = np.array([[5,6],[7,8]], dtype=np.float64)\n",
    "\n",
    "# Elementwise sum; both produce the array\n",
    "# [[ 6.0  8.0]\n",
    "#  [10.0 12.0]]\n",
    "print x + y\n",
    "print np.add(x, y)\n",
    "\n",
    "# Elementwise difference; both produce the array\n",
    "# [[-4.0 -4.0]\n",
    "#  [-4.0 -4.0]]\n",
    "print x - y\n",
    "print np.subtract(x, y)\n",
    "\n",
    "# Elementwise product; both produce the array\n",
    "# [[ 5.0 12.0]\n",
    "#  [21.0 32.0]]\n",
    "print x * y\n",
    "print np.multiply(x, y)\n",
    "\n",
    "# Elementwise division; both produce the array\n",
    "# [[ 0.2         0.33333333]\n",
    "#  [ 0.42857143  0.5       ]]\n",
    "print x / y\n",
    "print np.divide(x, y)\n",
    "\n",
    "# Elementwise square root; produces the array\n",
    "# [[ 1.          1.41421356]\n",
    "#  [ 1.73205081  2.        ]]\n",
    "print np.sqrt(x)\n",
    "\n",
    "\n",
    "# Vector/Matrix Multiplication\n",
    "x = np.array([[1,2],[3,4]])\n",
    "y = np.array([[5,6],[7,8]])\n",
    "\n",
    "v = np.array([9,10])\n",
    "w = np.array([11, 12])\n",
    "\n",
    "# Inner product of vectors; both produce 219 = 9 * 11 + 10 * 12 = 219\n",
    "print v.dot(w)\n",
    "print np.dot(v, w)\n",
    "\n",
    "# Matrix / vector product; both produce the rank 1 array [29 67] = [1*9 + 2 * 10, 3 * 9 + 4 * 10]\n",
    "print x.dot(v)\n",
    "print np.dot(x, v)\n",
    "\n",
    "# Matrix / matrix product; both produce the rank 2 array: Matrix multiplication of x and y\n",
    "# [[19 22]\n",
    "#  [43 50]]\n",
    "print x.dot(y)\n",
    "print np.dot(x, y)\n",
    "\n",
    "# transpose of x\n",
    "print (x)\n",
    "print (x.T)"
   ]
  },
  {
   "cell_type": "markdown",
   "metadata": {},
   "source": [
    "#####Broadcasting:"
   ]
  },
  {
   "cell_type": "code",
   "execution_count": 30,
   "metadata": {
    "collapsed": false
   },
   "outputs": [
    {
     "name": "stdout",
     "output_type": "stream",
     "text": [
      "[[1 0 1]\n",
      " [1 0 1]\n",
      " [1 0 1]\n",
      " [1 0 1]]\n",
      "[[ 2  2  4]\n",
      " [ 5  5  7]\n",
      " [ 8  8 10]\n",
      " [11 11 13]]\n",
      "[[ 2  2  4]\n",
      " [ 5  5  7]\n",
      " [ 8  8 10]\n",
      " [11 11 13]]\n"
     ]
    }
   ],
   "source": [
    "import numpy as np\n",
    "\n",
    "# We will add the vector v to each row of the matrix x,\n",
    "# storing the result in the matrix y\n",
    "x = np.array([[1,2,3], [4,5,6], [7,8,9], [10, 11, 12]])\n",
    "v = np.array([1, 0, 1])\n",
    "vv = np.tile(v, (4, 1))  # Stack 4 copies of v on top of each other\n",
    "print vv                 # Prints \"[[1 0 1]\n",
    "                         #          [1 0 1]\n",
    "                         #          [1 0 1]\n",
    "                         #          [1 0 1]]\"\n",
    "y = x + vv  # Add x and vv elementwise\n",
    "print y  # Prints \"[[ 2  2  4\n",
    "         #          [ 5  5  7]\n",
    "         #          [ 8  8 10]\n",
    "         #          [11 11 13]]\"\n",
    "            \n",
    "            \n",
    "# We will add the vector v to each row of the matrix x,\n",
    "# storing the result in the matrix y\n",
    "x = np.array([[1,2,3], [4,5,6], [7,8,9], [10, 11, 12]])\n",
    "v = np.array([1, 0, 1])\n",
    "y = x + v  # Add v to each row of x using broadcasting\n",
    "print y  # Prints \"[[ 2  2  4]\n",
    "         #          [ 5  5  7]\n",
    "         #          [ 8  8 10]\n",
    "         #          [11 11 13]]\""
   ]
  },
  {
   "cell_type": "markdown",
   "metadata": {},
   "source": [
    "##### Datatype\n",
    "\n",
    "In the numpy array, you can define the type of values that are stored in the array."
   ]
  },
  {
   "cell_type": "code",
   "execution_count": 31,
   "metadata": {
    "collapsed": false
   },
   "outputs": [
    {
     "name": "stdout",
     "output_type": "stream",
     "text": [
      "[[26  7  1]\n",
      " [ 2 11 47]]\n",
      "[[ 26.6875      7.9296875   1.4140625]\n",
      " [  2.4765625  11.1640625  47.375    ]]\n",
      "int16\n",
      "float16\n"
     ]
    }
   ],
   "source": [
    "a = np.random.rand(2,3) * 100\n",
    "c = np.array(a, dtype = np.float16)\n",
    "b = np.array(a, dtype = np.int16)\n",
    "print (b)\n",
    "print (c)\n",
    "print (b.dtype)\n",
    "print (c.dtype)"
   ]
  },
  {
   "cell_type": "markdown",
   "metadata": {},
   "source": [
    "### Pandas: an open source Python library for data analysis.\n",
    "\n",
    "Installation:\n",
    "\n",
    "$ pip install pandas\n",
    "\n",
    "#### Data structure of Pandas\n",
    "pandas introduces two new data structures to Python - $\\textbf{Series}$ and $\\textbf{DataFrame}$, both of which are built on top of NumPy (this means it's fast).\n",
    "\n",
    "##### Series\n",
    "\n",
    "A Series is a one-dimensional object similar to an array, list, or column in a table. It will assign a labeled index to each item in the Series. By default, each item will receive an index label from 0 to N, where N is the length of the Series minus one.\n",
    "\n",
    "##### DataFrame\n",
    "\n",
    "A DataFrame is a tablular data structure comprised of rows and columns, akin to a spreadsheet, database table, or R's data.frame object. You can also think of a DataFrame as a group of Series objects that share an index (the column names)."
   ]
  },
  {
   "cell_type": "code",
   "execution_count": 32,
   "metadata": {
    "collapsed": false
   },
   "outputs": [],
   "source": [
    "import pandas as pd\n",
    "import numpy as np\n",
    "import matplotlib.pyplot as plt\n",
    "pd.set_option('max_columns', 50)\n",
    "%matplotlib inline"
   ]
  },
  {
   "cell_type": "markdown",
   "metadata": {},
   "source": [
    "###### Series"
   ]
  },
  {
   "cell_type": "code",
   "execution_count": 33,
   "metadata": {
    "collapsed": false
   },
   "outputs": [
    {
     "data": {
      "text/plain": [
       "Apple     0.89\n",
       "Banana    0.39\n",
       "Bread     2.50\n",
       "dtype: float64"
      ]
     },
     "execution_count": 33,
     "metadata": {},
     "output_type": "execute_result"
    }
   ],
   "source": [
    "# create a Series with an arbitrary list\n",
    "s = pd.Series([7, 'Heisenberg', 3.14, -1789710578, 'Happy Eating!'])\n",
    "\n",
    "# Alternatively, you can specify an index to use when creating the Series.\n",
    "\n",
    "s = pd.Series([7, 'Heisenberg', 3.14, -1789710578, 'Happy Eating!'],\n",
    "              index=['A', 'Z', 'C', 'Y', 'E'])\n",
    "\n",
    "#The Series constructor can convert a dictonary as well, using the keys of the dictionary as its index.\n",
    "\n",
    "groceryPrice = pd.Series(prices)\n",
    "\n",
    "groceryPrice"
   ]
  },
  {
   "cell_type": "code",
   "execution_count": 34,
   "metadata": {
    "collapsed": false
   },
   "outputs": [
    {
     "name": "stdout",
     "output_type": "stream",
     "text": [
      "0.89\n",
      "Apple     0.89\n",
      "Banana    0.39\n",
      "dtype: float64\n"
     ]
    }
   ],
   "source": [
    "# You can use the index to select specific items from the Series ...\n",
    "\n",
    "print(groceryPrice['Apple'])\n",
    "\n",
    "print(groceryPrice[['Apple', 'Banana']])"
   ]
  },
  {
   "cell_type": "code",
   "execution_count": 35,
   "metadata": {
    "collapsed": false
   },
   "outputs": [
    {
     "name": "stdout",
     "output_type": "stream",
     "text": [
      "Apple      True\n",
      "Banana     True\n",
      "Bread     False\n",
      "dtype: bool\n",
      "Apple     0.89\n",
      "Banana    0.39\n",
      "dtype: float64\n"
     ]
    }
   ],
   "source": [
    "# Or you can use boolean indexing for selection.\n",
    "\n",
    "print(groceryPrice < 1)\n",
    "print(groceryPrice[groceryPrice < 1])"
   ]
  },
  {
   "cell_type": "code",
   "execution_count": 36,
   "metadata": {
    "collapsed": false
   },
   "outputs": [
    {
     "name": "stdout",
     "output_type": "stream",
     "text": [
      "Apple     0.89\n",
      "Banana    0.49\n",
      "Bread     2.50\n",
      "Milk      5.49\n",
      "dtype: float64\n"
     ]
    }
   ],
   "source": [
    "# You can also add/change the values in a Series on the fly.\n",
    "\n",
    "groceryPrice['Milk'] = 5.49\n",
    "groceryPrice['Banana'] = 0.49\n",
    "print(groceryPrice)"
   ]
  },
  {
   "cell_type": "code",
   "execution_count": 37,
   "metadata": {
    "collapsed": false
   },
   "outputs": [
    {
     "name": "stdout",
     "output_type": "stream",
     "text": [
      "False\n"
     ]
    }
   ],
   "source": [
    "# Not sure whether an item is in the Series? Check it!\n",
    "print ('Beer' in groceryPrice)"
   ]
  },
  {
   "cell_type": "code",
   "execution_count": 38,
   "metadata": {
    "collapsed": false
   },
   "outputs": [
    {
     "name": "stdout",
     "output_type": "stream",
     "text": [
      "Apple      8.9\n",
      "Banana     4.9\n",
      "Bread     25.0\n",
      "Milk      54.9\n",
      "dtype: float64\n",
      "Apple      0.7921\n",
      "Banana     0.2401\n",
      "Bread      6.2500\n",
      "Milk      30.1401\n",
      "dtype: float64\n"
     ]
    }
   ],
   "source": [
    "# Mathematical operations can be done using scalars and functions.\n",
    "print(groceryPrice * 10)\n",
    "\n",
    "print(np.square(groceryPrice))"
   ]
  },
  {
   "cell_type": "code",
   "execution_count": 39,
   "metadata": {
    "collapsed": false
   },
   "outputs": [
    {
     "name": "stdout",
     "output_type": "stream",
     "text": [
      "Apple     0.89\n",
      "Banana    0.49\n",
      "Bread     2.50\n",
      "Milk      5.49\n",
      "Egg        NaN\n",
      "dtype: float64\n",
      "Apple      True\n",
      "Banana     True\n",
      "Bread      True\n",
      "Milk       True\n",
      "Egg       False\n",
      "dtype: bool\n"
     ]
    }
   ],
   "source": [
    "# Missing Value\n",
    "groceryPrice['Egg'] = nan\n",
    "\n",
    "print(groceryPrice)\n",
    "print(groceryPrice.notnull())"
   ]
  },
  {
   "cell_type": "markdown",
   "metadata": {},
   "source": [
    "##### DataFrame\n",
    "\n",
    "A DataFrame is a tablular data structure comprised of rows and columns, akin to a spreadsheet, database table, or R's data.frame object. You can also think of a DataFrame as a group of Series objects that share an index (the column names).\n",
    "\n",
    "To create a DataFrame out of common Python data structures, we can pass a dictionary of lists to the DataFrame constructor.\n",
    "\n",
    "Using the columns parameter allows us to tell the constructor how we'd like the columns ordered. By default, the DataFrame constructor will order the columns alphabetically (though this isn't the case when reading from a file - more on that next)."
   ]
  },
  {
   "cell_type": "code",
   "execution_count": 157,
   "metadata": {
    "collapsed": false
   },
   "outputs": [
    {
     "data": {
      "text/html": [
       "<div style=\"max-width:1500px;overflow:auto;\">\n",
       "<table border=\"1\" class=\"dataframe\">\n",
       "  <thead>\n",
       "    <tr style=\"text-align: right;\">\n",
       "      <th></th>\n",
       "      <th>Year</th>\n",
       "      <th>CNetID</th>\n",
       "      <th>Name</th>\n",
       "      <th>Department</th>\n",
       "    </tr>\n",
       "  </thead>\n",
       "  <tbody>\n",
       "    <tr>\n",
       "      <th>0</th>\n",
       "      <td>2012</td>\n",
       "      <td>427216</td>\n",
       "      <td>Ada</td>\n",
       "      <td>Statistics</td>\n",
       "    </tr>\n",
       "    <tr>\n",
       "      <th>1</th>\n",
       "      <td>2012</td>\n",
       "      <td>435618</td>\n",
       "      <td>Bill</td>\n",
       "      <td>Computer Science</td>\n",
       "    </tr>\n",
       "    <tr>\n",
       "      <th>2</th>\n",
       "      <td>2013</td>\n",
       "      <td>498712</td>\n",
       "      <td>Charlie</td>\n",
       "      <td>Math</td>\n",
       "    </tr>\n",
       "    <tr>\n",
       "      <th>3</th>\n",
       "      <td>2011</td>\n",
       "      <td>501398</td>\n",
       "      <td>Dylan</td>\n",
       "      <td>Economics</td>\n",
       "    </tr>\n",
       "    <tr>\n",
       "      <th>4</th>\n",
       "      <td>2014</td>\n",
       "      <td>437516</td>\n",
       "      <td>Eason</td>\n",
       "      <td>Physics</td>\n",
       "    </tr>\n",
       "    <tr>\n",
       "      <th>5</th>\n",
       "      <td>2015</td>\n",
       "      <td>498237</td>\n",
       "      <td>Frank</td>\n",
       "      <td>Chemistry</td>\n",
       "    </tr>\n",
       "    <tr>\n",
       "      <th>6</th>\n",
       "      <td>2012</td>\n",
       "      <td>478719</td>\n",
       "      <td>Gary</td>\n",
       "      <td>Law School</td>\n",
       "    </tr>\n",
       "    <tr>\n",
       "      <th>7</th>\n",
       "      <td>2013</td>\n",
       "      <td>451393</td>\n",
       "      <td>Hill</td>\n",
       "      <td>Business School</td>\n",
       "    </tr>\n",
       "    <tr>\n",
       "      <th>8</th>\n",
       "      <td>2017</td>\n",
       "      <td>467783</td>\n",
       "      <td>Iverson</td>\n",
       "      <td>NaN</td>\n",
       "    </tr>\n",
       "  </tbody>\n",
       "</table>\n",
       "</div>"
      ],
      "text/plain": [
       "   Year  CNetID     Name        Department\n",
       "0  2012  427216      Ada        Statistics\n",
       "1  2012  435618     Bill  Computer Science\n",
       "2  2013  498712  Charlie              Math\n",
       "3  2011  501398    Dylan         Economics\n",
       "4  2014  437516    Eason           Physics\n",
       "5  2015  498237    Frank         Chemistry\n",
       "6  2012  478719     Gary        Law School\n",
       "7  2013  451393     Hill   Business School\n",
       "8  2017  467783  Iverson               NaN"
      ]
     },
     "execution_count": 157,
     "metadata": {},
     "output_type": "execute_result"
    }
   ],
   "source": [
    "data = {'CNetID': [427216, 435618, 498712, 501398, 437516, 498237, 478719, 451393, 467783],\n",
    "        'Name': ['Ada', 'Bill', 'Charlie', 'Dylan', 'Eason', 'Frank', 'Gary', 'Hill', \"Iverson\"],\n",
    "        'Year': [2012, 2012, 2013, 2011, 2014, 2015, 2012, 2013, 2017],\n",
    "        'Department': ['Statistics', 'Computer Science', 'Math', 'Economics', 'Physics', 'Chemistry', 'Law School', 'Business School', nan]}\n",
    "rosters = pd.DataFrame(data, columns=['Year','CNetID', 'Name', 'Department'])\n",
    "rosters"
   ]
  },
  {
   "cell_type": "code",
   "execution_count": 55,
   "metadata": {
    "collapsed": false
   },
   "outputs": [
    {
     "data": {
      "text/html": [
       "<div style=\"max-width:1500px;overflow:auto;\">\n",
       "<table border=\"1\" class=\"dataframe\">\n",
       "  <thead>\n",
       "    <tr style=\"text-align: right;\">\n",
       "      <th></th>\n",
       "      <th>hourstart</th>\n",
       "      <th>census_tra</th>\n",
       "      <th>year</th>\n",
       "      <th>hournumber</th>\n",
       "      <th>shooting_count</th>\n",
       "      <th>robbery_count</th>\n",
       "      <th>assault_count</th>\n",
       "      <th>wind_speed</th>\n",
       "      <th>drybulb_fahrenheit</th>\n",
       "      <th>hourly_precip</th>\n",
       "      <th>relative_humidity</th>\n",
       "      <th>fz</th>\n",
       "      <th>ra</th>\n",
       "      <th>ts</th>\n",
       "      <th>br</th>\n",
       "      <th>sn</th>\n",
       "      <th>hz</th>\n",
       "      <th>dz</th>\n",
       "      <th>pl</th>\n",
       "      <th>fg</th>\n",
       "      <th>sa</th>\n",
       "      <th>up</th>\n",
       "      <th>fu</th>\n",
       "      <th>sq</th>\n",
       "      <th>gs</th>\n",
       "      <th>dod_drybulb_fahrenheit</th>\n",
       "      <th>month</th>\n",
       "      <th>weekday</th>\n",
       "    </tr>\n",
       "  </thead>\n",
       "  <tbody>\n",
       "    <tr>\n",
       "      <th>0</th>\n",
       "      <td>2001-01-03 03:00:00</td>\n",
       "      <td>410750</td>\n",
       "      <td>2001</td>\n",
       "      <td>3</td>\n",
       "      <td>0</td>\n",
       "      <td>0</td>\n",
       "      <td>0</td>\n",
       "      <td>11.5</td>\n",
       "      <td>11.0</td>\n",
       "      <td>0.005</td>\n",
       "      <td>82.0</td>\n",
       "      <td>0</td>\n",
       "      <td>0</td>\n",
       "      <td>0</td>\n",
       "      <td>0</td>\n",
       "      <td>0</td>\n",
       "      <td>0</td>\n",
       "      <td>0</td>\n",
       "      <td>0</td>\n",
       "      <td>0</td>\n",
       "      <td>0</td>\n",
       "      <td>0</td>\n",
       "      <td>0</td>\n",
       "      <td>0</td>\n",
       "      <td>0</td>\n",
       "      <td>0.5</td>\n",
       "      <td>1</td>\n",
       "      <td>2</td>\n",
       "    </tr>\n",
       "    <tr>\n",
       "      <th>1</th>\n",
       "      <td>2001-01-03 04:00:00</td>\n",
       "      <td>410750</td>\n",
       "      <td>2001</td>\n",
       "      <td>4</td>\n",
       "      <td>0</td>\n",
       "      <td>0</td>\n",
       "      <td>0</td>\n",
       "      <td>12.5</td>\n",
       "      <td>11.5</td>\n",
       "      <td>0.005</td>\n",
       "      <td>86.0</td>\n",
       "      <td>0</td>\n",
       "      <td>0</td>\n",
       "      <td>0</td>\n",
       "      <td>0</td>\n",
       "      <td>1</td>\n",
       "      <td>0</td>\n",
       "      <td>0</td>\n",
       "      <td>0</td>\n",
       "      <td>0</td>\n",
       "      <td>0</td>\n",
       "      <td>0</td>\n",
       "      <td>0</td>\n",
       "      <td>0</td>\n",
       "      <td>0</td>\n",
       "      <td>1.0</td>\n",
       "      <td>1</td>\n",
       "      <td>2</td>\n",
       "    </tr>\n",
       "    <tr>\n",
       "      <th>2</th>\n",
       "      <td>2001-01-03 05:00:00</td>\n",
       "      <td>410750</td>\n",
       "      <td>2001</td>\n",
       "      <td>5</td>\n",
       "      <td>0</td>\n",
       "      <td>0</td>\n",
       "      <td>0</td>\n",
       "      <td>11.0</td>\n",
       "      <td>12.5</td>\n",
       "      <td>0.005</td>\n",
       "      <td>90.0</td>\n",
       "      <td>0</td>\n",
       "      <td>0</td>\n",
       "      <td>0</td>\n",
       "      <td>1</td>\n",
       "      <td>1</td>\n",
       "      <td>0</td>\n",
       "      <td>0</td>\n",
       "      <td>0</td>\n",
       "      <td>0</td>\n",
       "      <td>0</td>\n",
       "      <td>0</td>\n",
       "      <td>0</td>\n",
       "      <td>0</td>\n",
       "      <td>0</td>\n",
       "      <td>3.0</td>\n",
       "      <td>1</td>\n",
       "      <td>2</td>\n",
       "    </tr>\n",
       "    <tr>\n",
       "      <th>3</th>\n",
       "      <td>2001-01-03 06:00:00</td>\n",
       "      <td>410750</td>\n",
       "      <td>2001</td>\n",
       "      <td>6</td>\n",
       "      <td>0</td>\n",
       "      <td>0</td>\n",
       "      <td>0</td>\n",
       "      <td>10.5</td>\n",
       "      <td>14.5</td>\n",
       "      <td>0.005</td>\n",
       "      <td>90.0</td>\n",
       "      <td>1</td>\n",
       "      <td>0</td>\n",
       "      <td>0</td>\n",
       "      <td>1</td>\n",
       "      <td>1</td>\n",
       "      <td>0</td>\n",
       "      <td>1</td>\n",
       "      <td>0</td>\n",
       "      <td>0</td>\n",
       "      <td>0</td>\n",
       "      <td>0</td>\n",
       "      <td>0</td>\n",
       "      <td>0</td>\n",
       "      <td>0</td>\n",
       "      <td>6.5</td>\n",
       "      <td>1</td>\n",
       "      <td>2</td>\n",
       "    </tr>\n",
       "    <tr>\n",
       "      <th>4</th>\n",
       "      <td>2001-01-03 07:00:00</td>\n",
       "      <td>410750</td>\n",
       "      <td>2001</td>\n",
       "      <td>7</td>\n",
       "      <td>0</td>\n",
       "      <td>0</td>\n",
       "      <td>0</td>\n",
       "      <td>11.0</td>\n",
       "      <td>15.5</td>\n",
       "      <td>0.005</td>\n",
       "      <td>93.5</td>\n",
       "      <td>1</td>\n",
       "      <td>0</td>\n",
       "      <td>0</td>\n",
       "      <td>1</td>\n",
       "      <td>1</td>\n",
       "      <td>0</td>\n",
       "      <td>1</td>\n",
       "      <td>0</td>\n",
       "      <td>0</td>\n",
       "      <td>0</td>\n",
       "      <td>0</td>\n",
       "      <td>0</td>\n",
       "      <td>0</td>\n",
       "      <td>0</td>\n",
       "      <td>7.5</td>\n",
       "      <td>1</td>\n",
       "      <td>2</td>\n",
       "    </tr>\n",
       "  </tbody>\n",
       "</table>\n",
       "</div>"
      ],
      "text/plain": [
       "             hourstart  census_tra  year  hournumber  shooting_count  \\\n",
       "0  2001-01-03 03:00:00      410750  2001           3               0   \n",
       "1  2001-01-03 04:00:00      410750  2001           4               0   \n",
       "2  2001-01-03 05:00:00      410750  2001           5               0   \n",
       "3  2001-01-03 06:00:00      410750  2001           6               0   \n",
       "4  2001-01-03 07:00:00      410750  2001           7               0   \n",
       "\n",
       "   robbery_count  assault_count  wind_speed  drybulb_fahrenheit  \\\n",
       "0              0              0        11.5                11.0   \n",
       "1              0              0        12.5                11.5   \n",
       "2              0              0        11.0                12.5   \n",
       "3              0              0        10.5                14.5   \n",
       "4              0              0        11.0                15.5   \n",
       "\n",
       "   hourly_precip  relative_humidity  fz  ra  ts  br  sn  hz  dz  pl  fg  sa  \\\n",
       "0          0.005               82.0   0   0   0   0   0   0   0   0   0   0   \n",
       "1          0.005               86.0   0   0   0   0   1   0   0   0   0   0   \n",
       "2          0.005               90.0   0   0   0   1   1   0   0   0   0   0   \n",
       "3          0.005               90.0   1   0   0   1   1   0   1   0   0   0   \n",
       "4          0.005               93.5   1   0   0   1   1   0   1   0   0   0   \n",
       "\n",
       "   up  fu  sq  gs  dod_drybulb_fahrenheit  month  weekday  \n",
       "0   0   0   0   0                     0.5      1        2  \n",
       "1   0   0   0   0                     1.0      1        2  \n",
       "2   0   0   0   0                     3.0      1        2  \n",
       "3   0   0   0   0                     6.5      1        2  \n",
       "4   0   0   0   0                     7.5      1        2  "
      ]
     },
     "execution_count": 55,
     "metadata": {},
     "output_type": "execute_result"
    }
   ],
   "source": [
    "# Read CSV from file\n",
    "\n",
    "from_csv = pd.read_csv('./aggregatedData.csv')\n",
    "from_csv.head()"
   ]
  },
  {
   "cell_type": "code",
   "execution_count": 56,
   "metadata": {
    "collapsed": false
   },
   "outputs": [
    {
     "name": "stdout",
     "output_type": "stream",
     "text": [
      "<class 'pandas.core.frame.DataFrame'>\n",
      "Int64Index: 21351 entries, 0 to 21350\n",
      "Data columns (total 28 columns):\n",
      "hourstart                 21351 non-null object\n",
      "census_tra                21351 non-null float64\n",
      "year                      21351 non-null float64\n",
      "hournumber                21351 non-null float64\n",
      "shooting_count            21351 non-null int64\n",
      "robbery_count             21351 non-null int64\n",
      "assault_count             21351 non-null int64\n",
      "wind_speed                21351 non-null float64\n",
      "drybulb_fahrenheit        21351 non-null float64\n",
      "hourly_precip             21351 non-null float64\n",
      "relative_humidity         21351 non-null float64\n",
      "fz                        21351 non-null float64\n",
      "ra                        21351 non-null float64\n",
      "ts                        21351 non-null float64\n",
      "br                        21351 non-null float64\n",
      "sn                        21351 non-null float64\n",
      "hz                        21351 non-null float64\n",
      "dz                        21351 non-null float64\n",
      "pl                        21351 non-null float64\n",
      "fg                        21351 non-null float64\n",
      "sa                        21351 non-null float64\n",
      "up                        21351 non-null float64\n",
      "fu                        21351 non-null float64\n",
      "sq                        21351 non-null float64\n",
      "gs                        21351 non-null float64\n",
      "dod_drybulb_fahrenheit    21351 non-null float64\n",
      "month                     21351 non-null int64\n",
      "weekday                   21351 non-null int64\n",
      "dtypes: float64(22), int64(5), object(1)\n",
      "memory usage: 4.7+ MB\n"
     ]
    },
    {
     "data": {
      "text/plain": [
       "<bound method DataFrame.describe of    Year  CNetID     Name        Department\n",
       "0  2012  427216      Ada        Statistics\n",
       "1  2012  435618     Bill  Computer Science\n",
       "2  2013  498712  Charlie              Math\n",
       "3  2011  501398    Dylan         Economics\n",
       "4  2014  437516    Eason           Physics\n",
       "5  2015  498237    Frank         Chemistry\n",
       "6  2012  478719     Gary        Law School\n",
       "7  2013  451393     Hill   Business School\n",
       "8  2017  467783  Iverson               NaN>"
      ]
     },
     "execution_count": 56,
     "metadata": {},
     "output_type": "execute_result"
    }
   ],
   "source": [
    "## Inspection\n",
    "\n",
    "from_csv.info()\n",
    "from_csv.dtypes\n",
    "rosters.describe"
   ]
  },
  {
   "cell_type": "code",
   "execution_count": 57,
   "metadata": {
    "collapsed": false
   },
   "outputs": [
    {
     "name": "stdout",
     "output_type": "stream",
     "text": [
      "             hourstart  census_tra  year  hournumber  shooting_count  \\\n",
      "0  2001-01-03 03:00:00      410750  2001           3               0   \n",
      "1  2001-01-03 04:00:00      410750  2001           4               0   \n",
      "2  2001-01-03 05:00:00      410750  2001           5               0   \n",
      "3  2001-01-03 06:00:00      410750  2001           6               0   \n",
      "4  2001-01-03 07:00:00      410750  2001           7               0   \n",
      "\n",
      "   robbery_count  assault_count  wind_speed  drybulb_fahrenheit  \\\n",
      "0              0              0        11.5                11.0   \n",
      "1              0              0        12.5                11.5   \n",
      "2              0              0        11.0                12.5   \n",
      "3              0              0        10.5                14.5   \n",
      "4              0              0        11.0                15.5   \n",
      "\n",
      "   hourly_precip  relative_humidity  fz  ra  ts  br  sn  hz  dz  pl  fg  sa  \\\n",
      "0          0.005               82.0   0   0   0   0   0   0   0   0   0   0   \n",
      "1          0.005               86.0   0   0   0   0   1   0   0   0   0   0   \n",
      "2          0.005               90.0   0   0   0   1   1   0   0   0   0   0   \n",
      "3          0.005               90.0   1   0   0   1   1   0   1   0   0   0   \n",
      "4          0.005               93.5   1   0   0   1   1   0   1   0   0   0   \n",
      "\n",
      "   up  fu  sq  gs  dod_drybulb_fahrenheit  month  weekday  \n",
      "0   0   0   0   0                     0.5      1        2  \n",
      "1   0   0   0   0                     1.0      1        2  \n",
      "2   0   0   0   0                     3.0      1        2  \n",
      "3   0   0   0   0                     6.5      1        2  \n",
      "4   0   0   0   0                     7.5      1        2  \n",
      "                 hourstart  census_tra  year  hournumber  shooting_count  \\\n",
      "21346  2014-09-05 18:00:00      410750  2014          18               0   \n",
      "21347  2014-09-05 19:00:00      410750  2014          19               0   \n",
      "21348  2014-09-05 20:00:00      410750  2014          20               0   \n",
      "21349  2014-09-05 21:00:00      410750  2014          21               0   \n",
      "21350  2014-09-05 22:00:00      410750  2014          22               0   \n",
      "\n",
      "       robbery_count  assault_count  wind_speed  drybulb_fahrenheit  \\\n",
      "21346              0              0     11.0000             68.8333   \n",
      "21347              0              0      6.3333             66.3333   \n",
      "21348              0              0      2.4286             66.4286   \n",
      "21349              0              0      4.2222             66.0000   \n",
      "21350              0              0      5.6250             65.6250   \n",
      "\n",
      "       hourly_precip  relative_humidity  fz  ra  ts  br  sn  hz  dz  pl  fg  \\\n",
      "21346         0.0225            73.1667   0   1   0   0   0   0   0   0   0   \n",
      "21347         0.0075            76.5000   0   1   0   0   0   0   0   0   0   \n",
      "21348         0.0075            80.1429   0   1   1   0   0   0   0   0   0   \n",
      "21349         0.0100            88.1250   0   1   0   0   0   0   0   0   0   \n",
      "21350         0.0050            87.8750   0   1   0   0   0   0   0   0   0   \n",
      "\n",
      "       sa  up  fu  sq  gs  dod_drybulb_fahrenheit  month  weekday  \n",
      "21346   0   0   0   0   0                -13.6667      9        4  \n",
      "21347   0   0   0   0   0                -14.1667      9        4  \n",
      "21348   0   0   0   0   0                -13.4285      9        4  \n",
      "21349   0   0   0   0   0                -13.7778      9        4  \n",
      "21350   0   0   0   0   0                -13.7500      9        4  \n"
     ]
    }
   ],
   "source": [
    "# Insepction\n",
    "\n",
    "print(from_csv.head())\n",
    "print(from_csv.tail())"
   ]
  },
  {
   "cell_type": "markdown",
   "metadata": {},
   "source": [
    "##### Selecting"
   ]
  },
  {
   "cell_type": "code",
   "execution_count": 61,
   "metadata": {
    "collapsed": false
   },
   "outputs": [
    {
     "name": "stdout",
     "output_type": "stream",
     "text": [
      "0    427216\n",
      "1    435618\n",
      "2    498712\n",
      "3    501398\n",
      "4    437516\n",
      "5    498237\n",
      "6    478719\n",
      "7    451393\n",
      "8    467783\n",
      "Name: CNetID, dtype: int64\n",
      "      Name  CNetID\n",
      "0      Ada  427216\n",
      "1     Bill  435618\n",
      "2  Charlie  498712\n",
      "3    Dylan  501398\n",
      "4    Eason  437516\n",
      "5    Frank  498237\n",
      "6     Gary  478719\n",
      "7     Hill  451393\n",
      "8  Iverson  467783\n"
     ]
    }
   ],
   "source": [
    "#Selecting a single column from the DataFrame will return a Series object.\n",
    "\n",
    "CNetID = rosters['CNetID']\n",
    "print(CNetID)\n",
    "\n",
    "#To select multiple columns, simply pass a list of column names to the DataFrame, the output of which will be a DataFrame.\n",
    "columnsYouWant = ['Name', 'CNetID']\n",
    "print(rosters[columnsYouWant])"
   ]
  },
  {
   "cell_type": "code",
   "execution_count": 70,
   "metadata": {
    "collapsed": false
   },
   "outputs": [
    {
     "name": "stdout",
     "output_type": "stream",
     "text": [
      "   Year  CNetID     Name Department\n",
      "5  2015  498237    Frank  Chemistry\n",
      "8  2017  467783  Iverson        NaN\n",
      "\n",
      "\n",
      "                hourstart  census_tra  year  hournumber  shooting_count  \\\n",
      "128   2001-01-28 22:00:00      410750  2001          22               0   \n",
      "684   2001-05-31 23:00:00      410750  2001          23               0   \n",
      "1092  2001-10-13 21:00:00      410750  2001          21               0   \n",
      "\n",
      "      robbery_count  assault_count  wind_speed  drybulb_fahrenheit  \\\n",
      "128               1              0         1.5                28.0   \n",
      "684               1              0         7.0                52.5   \n",
      "1092              1              0         3.0                58.0   \n",
      "\n",
      "      hourly_precip  relative_humidity  fz  ra  ts  br  sn  hz  dz  pl  fg  \\\n",
      "128           0.005               92.0   1   0   0   1   0   0   1   0   0   \n",
      "684           0.040               96.5   0   1   0   1   0   0   0   0   0   \n",
      "1092          0.030               94.5   0   1   0   1   0   0   0   0   0   \n",
      "\n",
      "      sa  up  fu  sq  gs  dod_drybulb_fahrenheit  month  weekday  \n",
      "128    0   0   0   0   0                      12      1        6  \n",
      "684    0   0   0   0   0                       2      5        3  \n",
      "1092   0   0   0   0   0                       4     10        5  \n",
      "\n",
      "\n",
      "                hourstart  census_tra  year  hournumber  shooting_count  \\\n",
      "842   2001-08-16 00:00:00      410750  2001           0               2   \n",
      "2768  2002-12-24 17:00:00      410750  2002          17               0   \n",
      "4320  2004-05-22 19:00:00      410750  2004          19               0   \n",
      "\n",
      "      robbery_count  assault_count  wind_speed  drybulb_fahrenheit  \\\n",
      "842               0              0         3.5                69.0   \n",
      "2768              2              0         9.5                29.5   \n",
      "4320              2              0         6.5                62.0   \n",
      "\n",
      "      hourly_precip  relative_humidity  fz  ra  ts  br  sn  hz  dz  pl  fg  \\\n",
      "842           0.065                 89   0   1   0   1   0   0   0   0   0   \n",
      "2768          0.005                 82   0   0   0   1   1   0   0   0   0   \n",
      "4320          0.310                 89   0   1   1   0   0   0   0   0   0   \n",
      "\n",
      "      sa  up  fu  sq  gs  dod_drybulb_fahrenheit  month  weekday  \n",
      "842    0   0   0   0   0                     7.0      8        3  \n",
      "2768   0   0   0   0   0                    -0.5     12        1  \n",
      "4320   0   0   0   0   0                    -3.5      5        5  \n"
     ]
    }
   ],
   "source": [
    "# Again we can use boolean indexing\n",
    "# students that are later than 2014\n",
    "print(rosters[rosters.Year > 2014])\n",
    "print('\\n')\n",
    "\n",
    "print(from_csv[(from_csv.hournumber > 20) & (from_csv.hournumber < 24) & (from_csv.robbery_count > 0)].head(3))\n",
    "print('\\n')\n",
    "\n",
    "print(from_csv[(from_csv.robbery_count > 1) | (from_csv.shooting_count > 1)].head(3))"
   ]
  },
  {
   "cell_type": "markdown",
   "metadata": {},
   "source": [
    "##### Slicing"
   ]
  },
  {
   "cell_type": "code",
   "execution_count": 87,
   "metadata": {
    "collapsed": false
   },
   "outputs": [
    {
     "name": "stdout",
     "output_type": "stream",
     "text": [
      "   Year  CNetID     Name        Department\n",
      "0  2012  427216      Ada        Statistics\n",
      "1  2012  435618     Bill  Computer Science\n",
      "2  2013  498712  Charlie              Math\n",
      "3  2011  501398    Dylan         Economics\n",
      "4  2014  437516    Eason           Physics\n",
      "\n",
      "\n",
      "   Year  CNetID     Name        Department\n",
      "0  2012  427216      Ada        Statistics\n",
      "1  2012  435618     Bill  Computer Science\n",
      "2  2013  498712  Charlie              Math\n",
      "3  2011  501398    Dylan         Economics\n",
      "4  2014  437516    Eason           Physics\n",
      "   Year  CNetID   Name        Department\n",
      "0  2012  427216    Ada        Statistics\n",
      "1  2012  435618   Bill  Computer Science\n",
      "4  2014  437516  Eason           Physics\n"
     ]
    }
   ],
   "source": [
    "# We can select rows by slicing like following\n",
    "print(rosters[0:5])\n",
    "\n",
    "print (\"\\n\")\n",
    "# We can select rows by position using the iloc method.\n",
    "print(rosters.iloc[np.arange(5)])\n",
    "print(rosters.iloc[[0, 1, 4]])"
   ]
  },
  {
   "cell_type": "code",
   "execution_count": 126,
   "metadata": {
    "collapsed": false
   },
   "outputs": [
    {
     "name": "stdout",
     "output_type": "stream",
     "text": [
      "        Year     Name        Department\n",
      "CNetID                                 \n",
      "427216  2012      Ada        Statistics\n",
      "435618  2012     Bill  Computer Science\n",
      "498712  2013  Charlie              Math\n",
      "501398  2011    Dylan         Economics\n",
      "437516  2014    Eason           Physics\n",
      "498237  2015    Frank         Chemistry\n",
      "478719  2012     Gary        Law School\n",
      "451393  2013     Hill   Business School\n",
      "467783  2017  Iverson               NaN\n"
     ]
    }
   ],
   "source": [
    "rosters.set_index('CNetID', inplace=True)\n",
    "print(rosters)"
   ]
  },
  {
   "cell_type": "markdown",
   "metadata": {},
   "source": [
    "##### Difference between iloc and loc"
   ]
  },
  {
   "cell_type": "code",
   "execution_count": 127,
   "metadata": {
    "collapsed": false
   },
   "outputs": [
    {
     "name": "stdout",
     "output_type": "stream",
     "text": [
      "        Year     Name        Department\n",
      "CNetID                                 \n",
      "427216  2012      Ada        Statistics\n",
      "435618  2012     Bill  Computer Science\n",
      "498712  2013  Charlie              Math\n",
      "501398  2011    Dylan         Economics\n",
      "437516  2014    Eason           Physics\n",
      "\n",
      "\n",
      "        Year     Name        Department\n",
      "CNetID                                 \n",
      "427216  2012      Ada        Statistics\n",
      "435618  2012     Bill  Computer Science\n",
      "498712  2013  Charlie              Math\n",
      "501398  2011    Dylan         Economics\n",
      "437516  2014    Eason           Physics\n",
      "        Year   Name        Department\n",
      "CNetID                               \n",
      "427216  2012    Ada        Statistics\n",
      "435618  2012   Bill  Computer Science\n",
      "437516  2014  Eason           Physics\n",
      "\n",
      "\n",
      "        Year     Name        Department\n",
      "CNetID                                 \n",
      "427216  2012      Ada        Statistics\n",
      "435618  2012     Bill  Computer Science\n",
      "498712  2013  Charlie              Math\n",
      "501398  2011    Dylan         Economics\n",
      "437516  2014    Eason           Physics\n",
      "Error: loc can't find index from 0 to 4\n",
      "\n",
      "\n",
      "        Year     Name        Department\n",
      "CNetID                                 \n",
      "427216  2012      Ada        Statistics\n",
      "435618  2012     Bill  Computer Science\n",
      "498712  2013  Charlie              Math\n",
      "Error iloc can't find the 427216th row\n"
     ]
    }
   ],
   "source": [
    "# We can select rows by slicing like following\n",
    "print(rosters[:5])\n",
    "\n",
    "print (\"\\n\")\n",
    "# We can select rows by position using the iloc method.\n",
    "print(rosters.iloc[np.arange(5)])\n",
    "print(rosters.iloc[[0, 1, 4]])\n",
    "\n",
    "print(\"\\n\")\n",
    "\n",
    "print(rosters.iloc[:5])\n",
    "\n",
    "try:\n",
    "    print(rosters.loc[:5])\n",
    "except:\n",
    "    print(\"Error: loc can't find index from 0 to 4\")\n",
    "    \n",
    "print(\"\\n\")\n",
    "print(rosters.loc[:498712])\n",
    "try:\n",
    "    print(rosters.iloc[498712])\n",
    "except:\n",
    "    print(\"Error iloc can't find the 427216th row\")"
   ]
  },
  {
   "cell_type": "code",
   "execution_count": 128,
   "metadata": {
    "collapsed": false
   },
   "outputs": [
    {
     "data": {
      "text/html": [
       "<div style=\"max-width:1500px;overflow:auto;\">\n",
       "<table border=\"1\" class=\"dataframe\">\n",
       "  <thead>\n",
       "    <tr style=\"text-align: right;\">\n",
       "      <th></th>\n",
       "      <th>CNetID</th>\n",
       "      <th>Year</th>\n",
       "      <th>Name</th>\n",
       "      <th>Department</th>\n",
       "    </tr>\n",
       "  </thead>\n",
       "  <tbody>\n",
       "    <tr>\n",
       "      <th>0</th>\n",
       "      <td>427216</td>\n",
       "      <td>2012</td>\n",
       "      <td>Ada</td>\n",
       "      <td>Statistics</td>\n",
       "    </tr>\n",
       "    <tr>\n",
       "      <th>1</th>\n",
       "      <td>435618</td>\n",
       "      <td>2012</td>\n",
       "      <td>Bill</td>\n",
       "      <td>Computer Science</td>\n",
       "    </tr>\n",
       "    <tr>\n",
       "      <th>2</th>\n",
       "      <td>498712</td>\n",
       "      <td>2013</td>\n",
       "      <td>Charlie</td>\n",
       "      <td>Math</td>\n",
       "    </tr>\n",
       "    <tr>\n",
       "      <th>3</th>\n",
       "      <td>501398</td>\n",
       "      <td>2011</td>\n",
       "      <td>Dylan</td>\n",
       "      <td>Economics</td>\n",
       "    </tr>\n",
       "    <tr>\n",
       "      <th>4</th>\n",
       "      <td>437516</td>\n",
       "      <td>2014</td>\n",
       "      <td>Eason</td>\n",
       "      <td>Physics</td>\n",
       "    </tr>\n",
       "  </tbody>\n",
       "</table>\n",
       "</div>"
      ],
      "text/plain": [
       "   CNetID  Year     Name        Department\n",
       "0  427216  2012      Ada        Statistics\n",
       "1  435618  2012     Bill  Computer Science\n",
       "2  498712  2013  Charlie              Math\n",
       "3  501398  2011    Dylan         Economics\n",
       "4  437516  2014    Eason           Physics"
      ]
     },
     "execution_count": 128,
     "metadata": {},
     "output_type": "execute_result"
    }
   ],
   "source": [
    "rosters.reset_index(inplace=True)\n",
    "rosters.head()"
   ]
  },
  {
   "cell_type": "code",
   "execution_count": 129,
   "metadata": {
    "collapsed": false
   },
   "outputs": [
    {
     "name": "stdout",
     "output_type": "stream",
     "text": [
      "[0 1 2]\n",
      "\n",
      "\n"
     ]
    },
    {
     "data": {
      "text/plain": [
       "count    21351.000000\n",
       "mean         0.002529\n",
       "std          0.051152\n",
       "min          0.000000\n",
       "25%          0.000000\n",
       "50%          0.000000\n",
       "75%          0.000000\n",
       "max          2.000000\n",
       "Name: shooting_count, dtype: float64"
      ]
     },
     "execution_count": 129,
     "metadata": {},
     "output_type": "execute_result"
    }
   ],
   "source": [
    "#Finding unique elements in a column\n",
    "print(unique(from_csv.shooting_count))\n",
    "print(\"\\n\")\n",
    "## The use of describe function\n",
    "from_csv.shooting_count.describe()"
   ]
  },
  {
   "cell_type": "markdown",
   "metadata": {},
   "source": [
    "##### Sorting"
   ]
  },
  {
   "cell_type": "code",
   "execution_count": 133,
   "metadata": {
    "collapsed": false
   },
   "outputs": [
    {
     "name": "stdout",
     "output_type": "stream",
     "text": [
      "   CNetID  Year     Name        Department\n",
      "3  501398  2011    Dylan         Economics\n",
      "2  498712  2013  Charlie              Math\n",
      "5  498237  2015    Frank         Chemistry\n",
      "6  478719  2012     Gary        Law School\n",
      "8  467783  2017  Iverson               NaN\n",
      "7  451393  2013     Hill   Business School\n",
      "4  437516  2014    Eason           Physics\n",
      "1  435618  2012     Bill  Computer Science\n",
      "0  427216  2012      Ada        Statistics\n",
      "   CNetID  Year     Name  Department\n",
      "3  501398  2011    Dylan   Economics\n",
      "2  498712  2013  Charlie        Math\n",
      "5  498237  2015    Frank   Chemistry\n",
      "6  478719  2012     Gary  Law School\n",
      "   CNetID  Year     Name       Department\n",
      "3  501398  2011    Dylan        Economics\n",
      "2  498712  2013  Charlie             Math\n",
      "5  498237  2015    Frank        Chemistry\n",
      "6  478719  2012     Gary       Law School\n",
      "8  467783  2017  Iverson              NaN\n",
      "7  451393  2013     Hill  Business School\n",
      "4  437516  2014    Eason          Physics\n"
     ]
    }
   ],
   "source": [
    "sortedRoster = rosters.sort(columns = \"CNetID\", ascending=False)\n",
    "print(sortedRoster)\n",
    "# Review loc and iloc\n",
    "\n",
    "print(sortedRoster.iloc[:4])\n",
    "print(sortedRoster.loc[:4])"
   ]
  },
  {
   "cell_type": "markdown",
   "metadata": {},
   "source": [
    "##### Drop rows and columns"
   ]
  },
  {
   "cell_type": "code",
   "execution_count": 139,
   "metadata": {
    "collapsed": false
   },
   "outputs": [
    {
     "name": "stdout",
     "output_type": "stream",
     "text": [
      "   CNetID  Year     Name        Department\n",
      "3  501398  2011    Dylan         Economics\n",
      "2  498712  2013  Charlie              Math\n",
      "5  498237  2015    Frank         Chemistry\n",
      "6  478719  2012     Gary        Law School\n",
      "8  467783  2017  Iverson               NaN\n",
      "7  451393  2013     Hill   Business School\n",
      "1  435618  2012     Bill  Computer Science\n",
      "0  427216  2012      Ada        Statistics\n",
      "\n",
      "\n",
      "   CNetID  Year     Name\n",
      "3  501398  2011    Dylan\n",
      "2  498712  2013  Charlie\n",
      "5  498237  2015    Frank\n",
      "6  478719  2012     Gary\n",
      "8  467783  2017  Iverson\n",
      "7  451393  2013     Hill\n",
      "4  437516  2014    Eason\n",
      "1  435618  2012     Bill\n",
      "0  427216  2012      Ada\n"
     ]
    }
   ],
   "source": [
    "# Drop rows\n",
    "print(sortedRoster.drop([4], axis = 0, inplace=False))\n",
    "\n",
    "print(\"\\n\")\n",
    "\n",
    "# Drop columns\n",
    "print(sortedRoster.drop(['Department'], axis = 1, inplace=False))"
   ]
  },
  {
   "cell_type": "markdown",
   "metadata": {},
   "source": [
    "##### Missing Values"
   ]
  },
  {
   "cell_type": "code",
   "execution_count": 154,
   "metadata": {
    "collapsed": false
   },
   "outputs": [
    {
     "data": {
      "text/html": [
       "<div style=\"max-width:1500px;overflow:auto;\">\n",
       "<table border=\"1\" class=\"dataframe\">\n",
       "  <thead>\n",
       "    <tr style=\"text-align: right;\">\n",
       "      <th></th>\n",
       "      <th>Year</th>\n",
       "      <th>CNetID</th>\n",
       "      <th>Name</th>\n",
       "      <th>Department</th>\n",
       "    </tr>\n",
       "  </thead>\n",
       "  <tbody>\n",
       "    <tr>\n",
       "      <th>0</th>\n",
       "      <td>False</td>\n",
       "      <td>False</td>\n",
       "      <td>False</td>\n",
       "      <td>False</td>\n",
       "    </tr>\n",
       "    <tr>\n",
       "      <th>1</th>\n",
       "      <td>False</td>\n",
       "      <td>False</td>\n",
       "      <td>False</td>\n",
       "      <td>False</td>\n",
       "    </tr>\n",
       "    <tr>\n",
       "      <th>2</th>\n",
       "      <td>False</td>\n",
       "      <td>False</td>\n",
       "      <td>False</td>\n",
       "      <td>False</td>\n",
       "    </tr>\n",
       "    <tr>\n",
       "      <th>3</th>\n",
       "      <td>False</td>\n",
       "      <td>False</td>\n",
       "      <td>False</td>\n",
       "      <td>False</td>\n",
       "    </tr>\n",
       "    <tr>\n",
       "      <th>4</th>\n",
       "      <td>False</td>\n",
       "      <td>False</td>\n",
       "      <td>False</td>\n",
       "      <td>False</td>\n",
       "    </tr>\n",
       "    <tr>\n",
       "      <th>5</th>\n",
       "      <td>False</td>\n",
       "      <td>False</td>\n",
       "      <td>False</td>\n",
       "      <td>False</td>\n",
       "    </tr>\n",
       "    <tr>\n",
       "      <th>6</th>\n",
       "      <td>False</td>\n",
       "      <td>False</td>\n",
       "      <td>False</td>\n",
       "      <td>False</td>\n",
       "    </tr>\n",
       "    <tr>\n",
       "      <th>7</th>\n",
       "      <td>False</td>\n",
       "      <td>False</td>\n",
       "      <td>False</td>\n",
       "      <td>False</td>\n",
       "    </tr>\n",
       "    <tr>\n",
       "      <th>8</th>\n",
       "      <td>True</td>\n",
       "      <td>False</td>\n",
       "      <td>False</td>\n",
       "      <td>True</td>\n",
       "    </tr>\n",
       "  </tbody>\n",
       "</table>\n",
       "</div>"
      ],
      "text/plain": [
       "    Year CNetID   Name Department\n",
       "0  False  False  False      False\n",
       "1  False  False  False      False\n",
       "2  False  False  False      False\n",
       "3  False  False  False      False\n",
       "4  False  False  False      False\n",
       "5  False  False  False      False\n",
       "6  False  False  False      False\n",
       "7  False  False  False      False\n",
       "8   True  False  False       True"
      ]
     },
     "execution_count": 154,
     "metadata": {},
     "output_type": "execute_result"
    }
   ],
   "source": [
    "rosters.isnull()"
   ]
  },
  {
   "cell_type": "code",
   "execution_count": 158,
   "metadata": {
    "collapsed": false
   },
   "outputs": [
    {
     "data": {
      "text/html": [
       "<div style=\"max-width:1500px;overflow:auto;\">\n",
       "<table border=\"1\" class=\"dataframe\">\n",
       "  <thead>\n",
       "    <tr style=\"text-align: right;\">\n",
       "      <th></th>\n",
       "      <th>Year</th>\n",
       "      <th>CNetID</th>\n",
       "      <th>Name</th>\n",
       "      <th>Department</th>\n",
       "    </tr>\n",
       "  </thead>\n",
       "  <tbody>\n",
       "    <tr>\n",
       "      <th>0</th>\n",
       "      <td>2012</td>\n",
       "      <td>427216</td>\n",
       "      <td>Ada</td>\n",
       "      <td>Statistics</td>\n",
       "    </tr>\n",
       "    <tr>\n",
       "      <th>1</th>\n",
       "      <td>2012</td>\n",
       "      <td>435618</td>\n",
       "      <td>Bill</td>\n",
       "      <td>Computer Science</td>\n",
       "    </tr>\n",
       "    <tr>\n",
       "      <th>2</th>\n",
       "      <td>2013</td>\n",
       "      <td>498712</td>\n",
       "      <td>Charlie</td>\n",
       "      <td>Math</td>\n",
       "    </tr>\n",
       "    <tr>\n",
       "      <th>3</th>\n",
       "      <td>2011</td>\n",
       "      <td>501398</td>\n",
       "      <td>Dylan</td>\n",
       "      <td>Economics</td>\n",
       "    </tr>\n",
       "    <tr>\n",
       "      <th>4</th>\n",
       "      <td>2014</td>\n",
       "      <td>437516</td>\n",
       "      <td>Eason</td>\n",
       "      <td>Physics</td>\n",
       "    </tr>\n",
       "    <tr>\n",
       "      <th>5</th>\n",
       "      <td>2015</td>\n",
       "      <td>498237</td>\n",
       "      <td>Frank</td>\n",
       "      <td>Chemistry</td>\n",
       "    </tr>\n",
       "    <tr>\n",
       "      <th>6</th>\n",
       "      <td>2012</td>\n",
       "      <td>478719</td>\n",
       "      <td>Gary</td>\n",
       "      <td>Law School</td>\n",
       "    </tr>\n",
       "    <tr>\n",
       "      <th>7</th>\n",
       "      <td>2013</td>\n",
       "      <td>451393</td>\n",
       "      <td>Hill</td>\n",
       "      <td>Business School</td>\n",
       "    </tr>\n",
       "    <tr>\n",
       "      <th>8</th>\n",
       "      <td>2017</td>\n",
       "      <td>467783</td>\n",
       "      <td>Iverson</td>\n",
       "      <td>Missing</td>\n",
       "    </tr>\n",
       "  </tbody>\n",
       "</table>\n",
       "</div>"
      ],
      "text/plain": [
       "   Year  CNetID     Name        Department\n",
       "0  2012  427216      Ada        Statistics\n",
       "1  2012  435618     Bill  Computer Science\n",
       "2  2013  498712  Charlie              Math\n",
       "3  2011  501398    Dylan         Economics\n",
       "4  2014  437516    Eason           Physics\n",
       "5  2015  498237    Frank         Chemistry\n",
       "6  2012  478719     Gary        Law School\n",
       "7  2013  451393     Hill   Business School\n",
       "8  2017  467783  Iverson           Missing"
      ]
     },
     "execution_count": 158,
     "metadata": {},
     "output_type": "execute_result"
    }
   ],
   "source": [
    "rosters.fillna(\"Missing\")"
   ]
  },
  {
   "cell_type": "code",
   "execution_count": 166,
   "metadata": {
    "collapsed": false
   },
   "outputs": [
    {
     "data": {
      "text/plain": [
       "0    2013\n",
       "1    2013\n",
       "2    2014\n",
       "3    2012\n",
       "4    2015\n",
       "5    2016\n",
       "6    2013\n",
       "7    2014\n",
       "8    2018\n",
       "Name: Year, dtype: int64"
      ]
     },
     "execution_count": 166,
     "metadata": {},
     "output_type": "execute_result"
    }
   ],
   "source": [
    "def addOne(year):\n",
    "    return year + 1\n",
    "rosters['Year'].apply(addOne)"
   ]
  },
  {
   "cell_type": "code",
   "execution_count": null,
   "metadata": {
    "collapsed": false
   },
   "outputs": [],
   "source": []
  }
 ],
 "metadata": {
  "kernelspec": {
   "display_name": "Python 3",
   "language": "python",
   "name": "python3"
  },
  "language_info": {
   "codemirror_mode": {
    "name": "ipython",
    "version": 3
   },
   "file_extension": ".py",
   "mimetype": "text/x-python",
   "name": "python",
   "nbconvert_exporter": "python",
   "pygments_lexer": "ipython3",
   "version": "3.5.1"
  }
 },
 "nbformat": 4,
 "nbformat_minor": 0
}
