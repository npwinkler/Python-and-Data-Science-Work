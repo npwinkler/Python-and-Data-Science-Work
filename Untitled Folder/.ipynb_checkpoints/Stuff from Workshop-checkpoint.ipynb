{
 "cells": [
  {
   "cell_type": "code",
   "execution_count": 2,
   "metadata": {
    "collapsed": false
   },
   "outputs": [],
   "source": [
    "mixed_lists = [\"Hello\", 17, 92, 3.14, [1], [], [\"fun\", \"five\", \"furious\"]]"
   ]
  },
  {
   "cell_type": "code",
   "execution_count": 5,
   "metadata": {
    "collapsed": false
   },
   "outputs": [
    {
     "name": "stdout",
     "output_type": "stream",
     "text": [
      "['Hello', 17, 92, 3.14, [1], [], ['fun', 'five', 'furious']]\n"
     ]
    }
   ],
   "source": [
    "print(mixed_lists)"
   ]
  },
  {
   "cell_type": "code",
   "execution_count": 9,
   "metadata": {
    "collapsed": false
   },
   "outputs": [
    {
     "name": "stdout",
     "output_type": "stream",
     "text": [
      "['fb', '1', '2', 'f', '4', 'b', 'f', '7', '8', 'f', 'b', '11', 'f', '13', '14', 'fb', '16', '17', 'f', '19', 'b', 'f', '22', '23', 'f', 'b', '26', 'f', '28', '29', 'fb', '31', '32', 'f', '34', 'b', 'f', '37', '38', 'f', 'b', '41', 'f', '43', '44', 'fb', '46', '47', 'f', '49', 'b', 'f', '52', '53', 'f', 'b', '56', 'f', '58', '59', 'fb', '61', '62', 'f', '64', 'b', 'f', '67', '68', 'f', 'b', '71', 'f', '73', '74', 'fb', '76', '77', 'f', '79', 'b', 'f', '82', '83', 'f', 'b', '86', 'f', '88', '89', 'fb', '91', '92', 'f', '94', 'b', 'f', '97', '98', 'f']\n"
     ]
    }
   ],
   "source": [
    "fizzbuzz = []\n",
    "for i in range(0,100):\n",
    "    if (i % 15) is 0:\n",
    "        fizzbuzz.append(\"fb\")\n",
    "    elif (i % 3) is 0:\n",
    "        fizzbuzz.append(\"f\")\n",
    "    elif (i % 5) is 0:\n",
    "        fizzbuzz.append(\"b\")\n",
    "    else:\n",
    "        fizzbuzz.append(str(i))\n",
    "print(fizzbuzz)\n",
    "    \n",
    "    "
   ]
  },
  {
   "cell_type": "markdown",
   "metadata": {},
   "source": [
    "List Comprehensions(/Generators)"
   ]
  },
  {
   "cell_type": "code",
   "execution_count": 23,
   "metadata": {
    "collapsed": false
   },
   "outputs": [
    {
     "name": "stdout",
     "output_type": "stream",
     "text": [
      "True\n",
      "True\n"
     ]
    }
   ],
   "source": [
    "l = [100*x for x in range(1,6)]\n",
    "#print(l)\n",
    "l2 = [x + 1 for x in l if (x %8) == 0]\n",
    "#print(l2)\n",
    "odd_cubes = [pow(x,3) for x in range(101) if (x%2) == 1]\n",
    "##zip(l, l2, odd_cubes) -> problem because of the fact that all of the list sizes are different??\n",
    "print(\"aardvark\" is \"aardvark\") #expect no, GET YES\n",
    "print(\"aardvark\" == \"aardvark\") #expect yes"
   ]
  },
  {
   "cell_type": "code",
   "execution_count": 27,
   "metadata": {
    "collapsed": false,
    "scrolled": false
   },
   "outputs": [
    {
     "name": "stdout",
     "output_type": "stream",
     "text": [
      "Object `list.strip` not found.\n"
     ]
    }
   ],
   "source": [
    "?list.strip()"
   ]
  },
  {
   "cell_type": "code",
   "execution_count": null,
   "metadata": {
    "collapsed": true
   },
   "outputs": [],
   "source": []
  }
 ],
 "metadata": {
  "kernelspec": {
   "display_name": "Python 3",
   "language": "python",
   "name": "python3"
  },
  "language_info": {
   "codemirror_mode": {
    "name": "ipython",
    "version": 3
   },
   "file_extension": ".py",
   "mimetype": "text/x-python",
   "name": "python",
   "nbconvert_exporter": "python",
   "pygments_lexer": "ipython3",
   "version": "3.5.1"
  }
 },
 "nbformat": 4,
 "nbformat_minor": 0
}
